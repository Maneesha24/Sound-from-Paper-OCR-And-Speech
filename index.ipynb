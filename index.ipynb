{
 "cells": [
  {
   "cell_type": "markdown",
   "id": "bcc3181b-2f28-4c7b-b0c2-443cb86848b9",
   "metadata": {},
   "source": [
    "## Converting Images to Text Using Tesseract OCR and Python"
   ]
  },
  {
   "cell_type": "markdown",
   "id": "ad552224-75e3-4a75-b114-b8cf5be8e90b",
   "metadata": {},
   "source": [
    "Optical Character Recognition (OCR) technology is a powerful tool used to convert various forms of text into machine-readable formats. Beyond its primary function, OCR's integration with text-to-speech (TTS) or voice synthesis technology enables the conversion of recognized text into spoken words."
   ]
  },
  {
   "cell_type": "markdown",
   "id": "aa9f72e4-e2a4-4a77-8dc2-38a1c53a1575",
   "metadata": {},
   "source": [
    "OCR with sound dictation plays a crucial role in making content more accessible for individuals with visual impairments or reading difficulties. Through screen readers or assistive technologies, this association allows users to listen to text-based content from documents, websites, or even images, thereby fostering inclusivity in education, employment, and daily life."
   ]
  },
  {
   "cell_type": "markdown",
   "id": "bc1cffd8-b113-420e-93af-bf36ab7a0224",
   "metadata": {},
   "source": [
    "#### Importing libraries"
   ]
  },
  {
   "cell_type": "code",
   "execution_count": 1,
   "id": "4134cc87-08b9-40f3-af64-fd6a4b7be309",
   "metadata": {},
   "outputs": [],
   "source": [
    "import cv2\n",
    "import pytesseract"
   ]
  },
  {
   "cell_type": "markdown",
   "id": "cc77ed42-1e09-4555-8201-fb4870002421",
   "metadata": {},
   "source": [
    "#### Reading the image"
   ]
  },
  {
   "cell_type": "code",
   "execution_count": 2,
   "id": "da21aba0-1728-4a5e-9ad3-d4c957a7c000",
   "metadata": {},
   "outputs": [],
   "source": [
    "image_path = './image_to_read.png'\n",
    "image = cv2.imread(image_path)"
   ]
  },
  {
   "cell_type": "markdown",
   "id": "ccfa1595-5237-40da-a173-1ee7b07ffa55",
   "metadata": {},
   "source": [
    "#### Image pre-processing"
   ]
  },
  {
   "cell_type": "code",
   "execution_count": 3,
   "id": "dd73c26b-f7e3-4ff6-8fb2-64751a691483",
   "metadata": {},
   "outputs": [],
   "source": [
    "# Convert the image to grayscale\n",
    "gray_image = cv2.cvtColor(image, cv2.COLOR_BGR2GRAY)\n",
    "\n",
    "# Apply thresholding or other preprocessing techniques if necessary\n",
    "# (e.g., blur, thresholding, denoising) to enhance text extraction\n",
    "processed_image = cv2.threshold(gray_image, 0, 255, cv2.THRESH_BINARY | cv2.THRESH_OTSU)[1]"
   ]
  },
  {
   "cell_type": "markdown",
   "id": "08fc1ac9-25a3-45b2-9053-98f02e4e0d91",
   "metadata": {},
   "source": [
    "#### Optical character Recognition"
   ]
  },
  {
   "cell_type": "code",
   "execution_count": 4,
   "id": "494dd3f7-fbe6-4e86-918e-7da4d4e2e290",
   "metadata": {},
   "outputs": [
    {
     "name": "stdout",
     "output_type": "stream",
     "text": [
      "The Road Not Taken\n",
      "\n",
      "Robert Frast, 1874 - 1963\n",
      "\n",
      "‘Two roads diverged in a yellow wood,\n",
      "And sorry I could not travel both\n",
      "And be one traveler, long I stood\n",
      "And looked down one as far as I could\n",
      "‘To where it bent in the undergrowth;\n",
      "\n",
      "‘Then took the other, as just as fair,\n",
      "And having perhaps the better claim,\n",
      "Because it was grassy and wanted wear;\n",
      "‘Though as for that the passing there\n",
      "Had worn them really about the same,\n",
      "\n",
      "‘And both that morning equally lay\n",
      "In leaves no step hed trodden black.\n",
      "‘Oh, I kept the first for another day!\n",
      "‘Yet knowing how way leads on to way,\n",
      "I doubted if {should ever come back.\n",
      "\n",
      "I shall be telling this with a sigh\n",
      "Somewhere ages and ages hence:\n",
      "‘Two roads diverged in a wood, and I—\n",
      "I took the one less traveled by,\n",
      "\n",
      "And that has made all the difference.\n",
      "\n"
     ]
    }
   ],
   "source": [
    "# Perform OCR on the processed image\n",
    "extracted_text = pytesseract.image_to_string(processed_image)\n",
    "print(extracted_text)"
   ]
  },
  {
   "cell_type": "code",
   "execution_count": null,
   "id": "db052c81-d8e2-4d52-a620-fbe161f5a6e7",
   "metadata": {},
   "outputs": [],
   "source": []
  }
 ],
 "metadata": {
  "kernelspec": {
   "display_name": "Python 3 (ipykernel)",
   "language": "python",
   "name": "python3"
  },
  "language_info": {
   "codemirror_mode": {
    "name": "ipython",
    "version": 3
   },
   "file_extension": ".py",
   "mimetype": "text/x-python",
   "name": "python",
   "nbconvert_exporter": "python",
   "pygments_lexer": "ipython3",
   "version": "3.9.6"
  }
 },
 "nbformat": 4,
 "nbformat_minor": 5
}
